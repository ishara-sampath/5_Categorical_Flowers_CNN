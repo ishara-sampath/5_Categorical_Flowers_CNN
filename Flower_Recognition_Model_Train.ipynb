{
  "nbformat": 4,
  "nbformat_minor": 0,
  "metadata": {
    "colab": {
      "provenance": []
    },
    "kernelspec": {
      "name": "python3",
      "display_name": "Python 3"
    },
    "language_info": {
      "name": "python"
    }
  },
  "cells": [
    {
      "cell_type": "markdown",
      "source": [
        "Import Required Packages"
      ],
      "metadata": {
        "id": "SOtsBb1FhCLu"
      }
    },
    {
      "cell_type": "code",
      "source": [
        "from keras.models import Sequential\n",
        "from keras.layers import Convolution2D\n",
        "from keras.layers import MaxPooling2D\n",
        "from keras.layers import Flatten\n",
        "from keras.layers import Dropout\n",
        "from keras.layers import Dense\n",
        "from keras.utils.np_utils import to_categorical"
      ],
      "metadata": {
        "id": "Kq4wHyCMhH0w"
      },
      "execution_count": 19,
      "outputs": []
    },
    {
      "cell_type": "code",
      "source": [
        "#Declare and intialize our Sequetial Model\n",
        "classifier = Sequential()\n",
        "\n",
        "#Convolutional input layer, 32 feature maps with a size of 3*3 and a\n",
        "#rectifier activation function (relu==rectified linear unit)\n",
        "classifier.add(Convolution2D(32,3,3,input_shape=(32,32,3), activation = 'relu'))"
      ],
      "metadata": {
        "id": "m6IkLtmth5eG"
      },
      "execution_count": 20,
      "outputs": []
    },
    {
      "cell_type": "code",
      "source": [
        "#Dropout layer at 10%\n",
        "classifier.add(Dropout(.1))"
      ],
      "metadata": {
        "id": "EBWI1sM5jMRB"
      },
      "execution_count": 21,
      "outputs": []
    },
    {
      "cell_type": "code",
      "source": [
        "#Max pool layer with size 2*2\n",
        "classifier.add(MaxPooling2D(pool_size = (2*2)))\n",
        "\n",
        "#Flattern Layer\n",
        "classifier.add(Flatten())"
      ],
      "metadata": {
        "id": "cHdgDQsCjdh_"
      },
      "execution_count": 22,
      "outputs": []
    },
    {
      "cell_type": "code",
      "source": [
        "#Fully connected layer with 1024 units and a rectifer activation function\n",
        "classifier.add(Dense(1024, activation = 'relu'))\n",
        "\n",
        "#Fully connected layer with 512 units and a rectifer activation function\n",
        "classifier.add(Dense(512, activation = 'relu'))\n",
        "\n",
        "#Fully connected output layer with 5 units and a softmax activation function\n",
        "classifier.add(Dense(5, activation = 'softmax'))\n",
        "\n",
        "classifier.compile(optimizer = 'adam', loss = 'binary_crossentropy',metrics=['accuracy'])"
      ],
      "metadata": {
        "id": "Nfqma3Sfj0DC"
      },
      "execution_count": 23,
      "outputs": []
    },
    {
      "cell_type": "code",
      "source": [
        "#Import google drive\n",
        "from google.colab import drive\n",
        "drive.mount('/content/gdrive')"
      ],
      "metadata": {
        "colab": {
          "base_uri": "https://localhost:8080/"
        },
        "id": "dFctFxn1rcR_",
        "outputId": "a0a738ac-0503-4d62-99ea-74476618e5d9"
      },
      "execution_count": 24,
      "outputs": [
        {
          "output_type": "stream",
          "name": "stdout",
          "text": [
            "Drive already mounted at /content/gdrive; to attempt to forcibly remount, call drive.mount(\"/content/gdrive\", force_remount=True).\n"
          ]
        }
      ]
    },
    {
      "cell_type": "code",
      "source": [
        "from keras.preprocessing.image import ImageDataGenerator\n",
        "\n",
        "train_datagen = ImageDataGenerator(\n",
        "    rescale = 1./255,\n",
        "    shear_range = 0.2,\n",
        "    zoom_range = 0.2,\n",
        "    horizontal_flip=True\n",
        ")\n",
        "\n",
        "test_datagen = ImageDataGenerator(rescale=1./255)\n",
        "\n",
        "#use target_size parameter to convert images to 32*32 pixels\n",
        "\n",
        "training_set = train_datagen.flow_from_directory(\n",
        "    '/content/gdrive/MyDrive/colab_datasets/5_Categories_Flower_Recognition/dataset/training', target_size = (32,32),\n",
        "    batch_size = 32, class_mode='categorical'\n",
        ")\n",
        "\n",
        "test_set = test_datagen.flow_from_directory(\n",
        "    '/content/gdrive/MyDrive/colab_datasets/5_Categories_Flower_Recognition/dataset/testing', target_size = (32,32),\n",
        "    batch_size = 32, class_mode='categorical'\n",
        ")\n",
        "\n",
        "nb_train_samples = len(training_set.filenames)\n",
        "num_classes = len(training_set.class_indices)\n",
        "\n",
        "#get the class labels for the training data, in the original order\n",
        "train_labels = training_set.classes "
      ],
      "metadata": {
        "colab": {
          "base_uri": "https://localhost:8080/"
        },
        "id": "03G3_6kalYn9",
        "outputId": "8a12b31e-72c7-4ba5-cf68-2d268166314a"
      },
      "execution_count": 25,
      "outputs": [
        {
          "output_type": "stream",
          "name": "stdout",
          "text": [
            "Found 3238 images belonging to 5 classes.\n",
            "Found 1079 images belonging to 5 classes.\n"
          ]
        }
      ]
    },
    {
      "cell_type": "code",
      "source": [
        "from IPython.display import display\n",
        "from PIL import Image\n",
        "\n",
        "hist = classifier.fit_generator(training_set, steps_per_epoch=50,\n",
        "                                epochs = 10, validation_data = test_set,\n",
        "                                validation_steps= 10)"
      ],
      "metadata": {
        "colab": {
          "base_uri": "https://localhost:8080/"
        },
        "id": "5qhxQpoNntLv",
        "outputId": "a7b72e3f-b146-42a5-8484-3954c4215ed1"
      },
      "execution_count": 26,
      "outputs": [
        {
          "output_type": "stream",
          "name": "stderr",
          "text": [
            "<ipython-input-26-f64acd16aee9>:4: UserWarning: `Model.fit_generator` is deprecated and will be removed in a future version. Please use `Model.fit`, which supports generators.\n",
            "  hist = classifier.fit_generator(training_set, steps_per_epoch=50,\n"
          ]
        },
        {
          "output_type": "stream",
          "name": "stdout",
          "text": [
            "Epoch 1/10\n",
            "50/50 [==============================] - 319s 6s/step - loss: 0.4802 - accuracy: 0.3304 - val_loss: 0.4162 - val_accuracy: 0.4781\n",
            "Epoch 2/10\n",
            "50/50 [==============================] - 278s 6s/step - loss: 0.3992 - accuracy: 0.4816 - val_loss: 0.3809 - val_accuracy: 0.5156\n",
            "Epoch 3/10\n",
            "50/50 [==============================] - 108s 2s/step - loss: 0.3724 - accuracy: 0.5213 - val_loss: 0.3906 - val_accuracy: 0.4938\n",
            "Epoch 4/10\n",
            "50/50 [==============================] - 57s 1s/step - loss: 0.3696 - accuracy: 0.5267 - val_loss: 0.3733 - val_accuracy: 0.5375\n",
            "Epoch 5/10\n",
            "50/50 [==============================] - 42s 842ms/step - loss: 0.3477 - accuracy: 0.5700 - val_loss: 0.3312 - val_accuracy: 0.5969\n",
            "Epoch 6/10\n",
            "50/50 [==============================] - 29s 585ms/step - loss: 0.3557 - accuracy: 0.5644 - val_loss: 0.3687 - val_accuracy: 0.5562\n",
            "Epoch 7/10\n",
            "50/50 [==============================] - 23s 465ms/step - loss: 0.3463 - accuracy: 0.5869 - val_loss: 0.3502 - val_accuracy: 0.5500\n",
            "Epoch 8/10\n",
            "50/50 [==============================] - 22s 442ms/step - loss: 0.3359 - accuracy: 0.5931 - val_loss: 0.3403 - val_accuracy: 0.5781\n",
            "Epoch 9/10\n",
            "50/50 [==============================] - 15s 306ms/step - loss: 0.3408 - accuracy: 0.5985 - val_loss: 0.3333 - val_accuracy: 0.5750\n",
            "Epoch 10/10\n",
            "50/50 [==============================] - 14s 289ms/step - loss: 0.3377 - accuracy: 0.6000 - val_loss: 0.3549 - val_accuracy: 0.5437\n"
          ]
        }
      ]
    },
    {
      "cell_type": "code",
      "source": [
        "scores = classifier.evaluate(test_set)\n",
        "print(\"\\n%s: %.2f%%\" % (classifier.metrics_names[1], scores[1]*100))\n",
        "\n",
        "print(\"Summary\")\n",
        "print(classifier.summary())"
      ],
      "metadata": {
        "colab": {
          "base_uri": "https://localhost:8080/"
        },
        "id": "n65q9tv7oSpW",
        "outputId": "104fccd7-2c50-4954-924f-7f44aa2a825f"
      },
      "execution_count": 31,
      "outputs": [
        {
          "output_type": "stream",
          "name": "stdout",
          "text": [
            "34/34 [==============================] - 5s 156ms/step - loss: 0.3576 - accuracy: 0.5728\n",
            "\n",
            "accuracy: 57.28%\n",
            "Summary\n",
            "Model: \"sequential_2\"\n",
            "_________________________________________________________________\n",
            " Layer (type)                Output Shape              Param #   \n",
            "=================================================================\n",
            " conv2d_1 (Conv2D)           (None, 10, 10, 32)        896       \n",
            "                                                                 \n",
            " dropout_1 (Dropout)         (None, 10, 10, 32)        0         \n",
            "                                                                 \n",
            " max_pooling2d_1 (MaxPooling  (None, 2, 2, 32)         0         \n",
            " 2D)                                                             \n",
            "                                                                 \n",
            " flatten_1 (Flatten)         (None, 128)               0         \n",
            "                                                                 \n",
            " dense_3 (Dense)             (None, 1024)              132096    \n",
            "                                                                 \n",
            " dense_4 (Dense)             (None, 512)               524800    \n",
            "                                                                 \n",
            " dense_5 (Dense)             (None, 5)                 2565      \n",
            "                                                                 \n",
            "=================================================================\n",
            "Total params: 660,357\n",
            "Trainable params: 660,357\n",
            "Non-trainable params: 0\n",
            "_________________________________________________________________\n",
            "None\n"
          ]
        }
      ]
    },
    {
      "cell_type": "code",
      "source": [
        "import matplotlib.pyplot as plt\n",
        "plt.plot(hist.history['accuracy'])\n",
        "plt.plot(hist.history['val_accuracy'])\n",
        "plt.title('Model accuracy')\n",
        "plt.ylabel('Accuracy')\n",
        "plt.xlabel('Epoch')\n",
        "plt.legend(['Train', 'Val'], loc='upper left')\n",
        "plt.show()"
      ],
      "metadata": {
        "colab": {
          "base_uri": "https://localhost:8080/",
          "height": 295
        },
        "id": "kJ7dqS6Opy2u",
        "outputId": "7ea43e89-1e66-4753-9770-56d1b1718595"
      },
      "execution_count": 35,
      "outputs": [
        {
          "output_type": "display_data",
          "data": {
            "text/plain": [
              "<Figure size 432x288 with 1 Axes>"
            ],
            "image/png": "[encoded data removed]"
          },
          "metadata": {
            "needs_background": "light"
          }
        }
      ]
    },
    {
      "cell_type": "code",
      "source": [
        "#visualize the models loss\n",
        "plt.plot(hist.history['loss'])\n",
        "plt.plot(hist.history['val_loss'])\n",
        "plt.title('Model loss')\n",
        "plt.ylabel('Loss')\n",
        "plt.xlabel('Epoch')\n",
        "plt.legend(['Train', 'Val'], loc='upper right')\n",
        "plt.show()"
      ],
      "metadata": {
        "colab": {
          "base_uri": "https://localhost:8080/",
          "height": 295
        },
        "id": "4VcFv7aaqfIX",
        "outputId": "fc3ed6b5-c795-4409-fe8d-74fec27d7370"
      },
      "execution_count": 45,
      "outputs": [
        {
          "output_type": "display_data",
          "data": {
            "text/plain": [
              "<Figure size 432x288 with 1 Axes>"
            ],
            "image/png": "[encoded data removed]"
          },
          "metadata": {
            "needs_background": "light"
          }
        }
      ]
    },
    {
      "cell_type": "code",
      "source": [
        "# serialize the model to disk\n",
        "print(\"[INFO] saving Flower detection model...\")\n",
        "classifier.save(\"flower_recognition_model.h5\")"
      ],
      "metadata": {
        "colab": {
          "base_uri": "https://localhost:8080/"
        },
        "id": "dxXB22MZqxsf",
        "outputId": "4cc56b92-7856-4079-965c-c43fcf1df333"
      },
      "execution_count": 47,
      "outputs": [
        {
          "output_type": "stream",
          "name": "stdout",
          "text": [
            "[INFO] saving Flower detection model...\n"
          ]
        }
      ]
    },
    {
      "cell_type": "code",
      "source": [],
      "metadata": {
        "id": "biiF_e_VPzM8"
      },
      "execution_count": null,
      "outputs": []
    }
  ]
}
